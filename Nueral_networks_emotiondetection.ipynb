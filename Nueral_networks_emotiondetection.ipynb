{
  "nbformat": 4,
  "nbformat_minor": 0,
  "metadata": {
    "colab": {
      "name": "Nueral_networks_emotiondetection.ipynb",
      "provenance": [],
      "collapsed_sections": []
    },
    "kernelspec": {
      "name": "python3",
      "display_name": "Python 3"
    },
    "accelerator": "GPU"
  },
  "cells": [
    {
      "cell_type": "code",
      "metadata": {
        "id": "Qhr-G_92H2Bc",
        "colab": {
          "base_uri": "https://localhost:8080/"
        },
        "outputId": "7beddcc1-d598-4d87-c49b-f870d67760f0"
      },
      "source": [
        "#@title Download Data { display-mode: \"form\" }\n",
        "\n",
        "import cv2\n",
        "import dlib\n",
        "import pickle\n",
        "import warnings\n",
        "import numpy as np\n",
        "import pandas as pd\n",
        "import seaborn as sns\n",
        "\n",
        "import urllib.request\n",
        "\n",
        "from sklearn import metrics\n",
        "from scipy.spatial import distance\n",
        "from sklearn.metrics import accuracy_score\n",
        "from matplotlib import pyplot as plt\n",
        "from tqdm import tqdm,tqdm_pandas\n",
        "from sklearn.preprocessing import StandardScaler\n",
        "from sklearn.model_selection import train_test_split\n",
        "\n",
        "import re\n",
        "import gdown\n",
        "import keras\n",
        "\n",
        "from keras.models import Sequential\n",
        "from keras.utils import to_categorical\n",
        "from keras.optimizers import Adam\n",
        "from keras.layers import Dense, Dropout, Activation, Flatten\n",
        "from keras.layers import Conv2D, MaxPooling2D, BatchNormalization\n",
        "from keras.losses import categorical_crossentropy\n",
        "from keras.optimizers import Adam, SGD\n",
        "from keras.regularizers import l2\n",
        "from keras.callbacks import EarlyStopping, ModelCheckpoint\n",
        "from keras.models import load_model\n",
        "\n",
        "# grab tools from our tensorflow and keras toolboxes!\n",
        "import tensorflow as tf\n",
        "from keras.models import Sequential\n",
        "from keras.layers import Activation, Dropout, Flatten, Dense\n",
        "from keras import optimizers\n",
        "\n",
        "warnings.filterwarnings(\"ignore\")\n",
        "def model_to_string(model):\n",
        "    import re\n",
        "    stringlist = []\n",
        "    model.summary(print_fn=lambda x: stringlist.append(x))\n",
        "    sms = \"\\n\".join(stringlist)\n",
        "    sms = re.sub('_\\d\\d\\d','', sms)\n",
        "    sms = re.sub('_\\d\\d','', sms)\n",
        "    sms = re.sub('_\\d','', sms)  \n",
        "    return sms\n",
        "\n",
        "\n",
        "dataset_url = 'https://drive.google.com/uc?id=1xFiYsULlQWWmi2Ai0fHjtApniP5Pscuf'\n",
        "dataset_path = './ferdata.csv'\n",
        "gdown.download(dataset_url, dataset_path, True)\n",
        "\n",
        "\n",
        "dlibshape_url = 'https://drive.google.com/uc?id=17D3D89Gke6i5nKOvmsbPslrGg5rVgOwg'\n",
        "dlibshape_path ='./shape_predictor_68_face_landmarks.dat'\n",
        "gdown.download(dlibshape_url, dlibshape_path, True)\n",
        "\n",
        "\n",
        "pureX_url = 'https://drive.google.com/uc?id=1CglpXodenZVrkaZehLtfykfQv8dcnfO9'\n",
        "pureX_path = './pureX.npy'\n",
        "gdown.download(pureX_url, pureX_path,True)\n",
        "\n",
        "\n",
        "dataX_url = 'https://drive.google.com/uc?id=1sIJGxUM6rNBcWxucs6iynDepeKU1Q56p'\n",
        "dataX_path = './dataX.npy'\n",
        "gdown.download(dataX_url, dataX_path, True)\n",
        "\n",
        "dataY_url = 'https://drive.google.com/uc?id=1Rfr0OP-hZO_UZfuOyMNR2RjNRAro85zE'\n",
        "dataY_path = './dataY.npy'\n",
        "gdown.download(dataY_url, dataY_path, True)\n",
        "\n",
        "\n",
        "print (\"Data Downloaded!\")\n",
        "\n",
        "def plot_confusion_matrix(y_true,y_predicted):\n",
        "  cm = metrics.confusion_matrix(y_true, y_predicted)\n",
        "  print (\"Plotting the Confusion Matrix\")\n",
        "  labels = list(label_map.values())\n",
        "  df_cm = pd.DataFrame(cm,index = labels,columns = labels)\n",
        "  fig = plt.figure()\n",
        "  res = sns.heatmap(df_cm, annot=True,cmap='Blues', fmt='g')\n",
        "  plt.yticks([0.5,1.5,2.5,3.5,4.5], labels,va='center')\n",
        "  plt.title('Confusion Matrix - TestData')\n",
        "  plt.ylabel('True label')\n",
        "  plt.xlabel('Predicted label')\n",
        " \n",
        "  plt.show()\n",
        "  plt.close()\n",
        "\n",
        "def plot_graphs(history, best):\n",
        "  \n",
        "  plt.figure(figsize=[10,4])\n",
        "  plt.subplot(121)\n",
        "  plt.plot(history.history['accuracy'])\n",
        "  plt.plot(history.history['val_accuracy'])\n",
        "  plt.title('model accuracy across training\\n best accuracy of %.02f'%best[1])\n",
        "  plt.ylabel('accuracy')\n",
        "  plt.xlabel('epoch')\n",
        "  plt.legend(['train', 'test'], loc='upper left')\n",
        "  \n",
        "  plt.subplot(122)\n",
        "  plt.plot(history.history['loss'])\n",
        "  plt.plot(history.history['val_loss'])\n",
        "  plt.title('model loss across training\\n best loss of %.02f'%best[0])\n",
        "  plt.ylabel('loss')\n",
        "  plt.xlabel('epoch')\n",
        "  plt.legend(['train', 'test'], loc='upper left')\n",
        "  plt.show()\n",
        "\n",
        "label_map = {\"0\":\"ANGRY\",\"1\":\"HAPPY\",\"2\":\"SAD\",\"3\":\"SURPRISE\",\"4\":\"NEUTRAL\"}\n",
        "\n",
        "\n",
        "predictor = dlib.shape_predictor('./shape_predictor_68_face_landmarks.dat')\n",
        "\"\"\"\n",
        "Returns facial landmarks for the given input image path\n",
        "\"\"\"\n",
        "def get_landmarks(image):\n",
        "  \n",
        "  rects = [dlib.rectangle(left=1, top=1, right=47, bottom=47)]\n",
        "  landmarks = [(p.x, p.y) for p in predictor(image, rects[0]).parts()]\n",
        "  return image,landmarks\n",
        "\n",
        "def image_landmarks(image,face_landmarks):\n",
        "  radius = -4\n",
        "  circle_thickness = 1\n",
        "  image_copy = image.copy()\n",
        "  for (x, y) in face_landmarks:\n",
        "    cv2.circle(image_copy, (x, y), circle_thickness, (255,0,0), radius)\n",
        "    \n",
        "  plt.imshow(image_copy, interpolation='nearest')\n",
        "  plt.show()\n",
        "def landmarks_edist(face_landmarks):\n",
        "    e_dist = []\n",
        "    for i in range(len(face_landmarks)):\n",
        "        for j in range(len(face_landmarks)):\n",
        "            if i!= j:\n",
        "                e_dist.append(distance.euclidean(face_landmarks[i],face_landmarks[j]))\n",
        "    return e_dist\n",
        "  \n",
        "def compare_learning(mlp, lm, cnn, vgg):\n",
        "  \n",
        "  plt.plot(vgg.history['val_accuracy'],)\n",
        "  plt.plot(cnn.history['val_accuracy'])\n",
        "  plt.plot(mlp.history['val_accuracy'],)\n",
        "  plt.plot(lm.history['val_accuracy'])\n",
        "  plt.ylabel('validitation accuracy')\n",
        "  plt.xlabel('epoch')\n",
        "  plt.legend(['cnn_transfer', 'cnn_scratch', 'mlp_pixels', 'mlp_landmarks'], bbox_to_anchor=[1,1])\n",
        "  plt.xticks(range(0, epochs+1, 5), range(0, epochs+1, 5))\n",
        "  plt.show()\n"
      ],
      "execution_count": 4,
      "outputs": [
        {
          "output_type": "stream",
          "text": [
            "Data Downloaded!\n"
          ],
          "name": "stdout"
        }
      ]
    },
    {
      "cell_type": "code",
      "metadata": {
        "id": "WJh4klMtV3Q_"
      },
      "source": [
        "perceptron = Sequential()\n",
        "n=2000\n",
        "perceptron.add(Dense(1024, input_shape=(4556, ), activation='relu', kernel_initializer='glorot_normal'))\n",
        "perceptron.add(Dense(512, activation='relu', kernel_initializer='glorot_normal'))\n",
        "perceptron.add(Dense(5, activation='softmax'))\n",
        "perceptron.compile(loss='categorical_crossentropy', optimizer=optimizers.SGD(lr=0.001), metrics=['mean_squared_error'])"
      ],
      "execution_count": 5,
      "outputs": []
    },
    {
      "cell_type": "code",
      "metadata": {
        "id": "rWDzNTh9Wm0e",
        "colab": {
          "base_uri": "https://localhost:8080/"
        },
        "outputId": "deaa94b0-f77c-40f8-8323-11826d7fae26"
      },
      "source": [
        "perceptron_answer = Sequential()\n",
        "perceptron_answer.add(Dense(units = 1024, input_shape = (4556,),kernel_initializer='glorot_normal',activation = 'relu'))\n",
        "perceptron_answer.add(Dense(units = 512,kernel_initializer='glorot_normal' , activation = 'relu'))\n",
        "perceptron_answer.add(Dense(units = 5, activation = 'softmax'))\n",
        "    \n",
        "perceptron_answer.compile(loss='categorical_crossentropy',\n",
        "              optimizer=SGD(lr=0.001),\n",
        "              metrics=['accuracy'])\n",
        "\n",
        "if model_to_string(perceptron) == model_to_string(perceptron_answer):\n",
        "  print('true')\n",
        "else: \n",
        "  print('false')"
      ],
      "execution_count": 6,
      "outputs": [
        {
          "output_type": "stream",
          "text": [
            "false\n"
          ],
          "name": "stdout"
        }
      ]
    },
    {
      "cell_type": "code",
      "metadata": {
        "id": "284_6dNsHiS5"
      },
      "source": [
        "epochs = 20\n",
        "batch_size = 64\n",
        "test_ratio = .1\n",
        "n_labels = 5 "
      ],
      "execution_count": 7,
      "outputs": []
    },
    {
      "cell_type": "code",
      "metadata": {
        "id": "oG7AIjf3xWBa"
      },
      "source": [
        "# load data \n",
        "dataX_pixels = np.load('pureX.npy')\n",
        "dataY_pixels = np.load('dataY.npy')"
      ],
      "execution_count": 8,
      "outputs": []
    },
    {
      "cell_type": "markdown",
      "metadata": {
        "id": "7y6HwMAg85jx"
      },
      "source": [
        "### Converting labels to one-hot encoded labels\n"
      ]
    },
    {
      "cell_type": "code",
      "metadata": {
        "id": "qA_0acGq9AJN"
      },
      "source": [
        "y_onehot = keras.utils.to_categorical(dataY_pixels, len(set(dataY_pixels)))\n"
      ],
      "execution_count": 9,
      "outputs": []
    },
    {
      "cell_type": "code",
      "metadata": {
        "id": "cVO4wnTY7rRk"
      },
      "source": [
        "X_train, X_test, y_train, y_test = train_test_split(dataX_pixels, y_onehot, test_size=test_ratio, random_state=42)\n",
        "pixel_scaler = StandardScaler()\n",
        "pixel_scaler.fit(X_train)\n",
        "X_train = pixel_scaler.transform(X_train)\n",
        "X_test = pixel_scaler.transform(X_test)"
      ],
      "execution_count": 10,
      "outputs": []
    },
    {
      "cell_type": "markdown",
      "metadata": {
        "id": "iaQQkwNsHGSM"
      },
      "source": [
        "## Simple mlp model\n"
      ]
    },
    {
      "cell_type": "code",
      "metadata": {
        "id": "QBk3kFJSgQJ0",
        "cellView": "both"
      },
      "source": [
        "nuerons = 500\n",
        "mlp_model = Sequential()\n",
        "mlp_model.add(Dense(5000, input_shape=(X_train.shape[1],), activation='relu', kernel_initializer='glorot_normal'))\n",
        "mlp_model.add(Dropout(0.5))\n",
        "mlp_model.add(Dense(350, activation='relu',kernel_initializer='glorot_normal'))\n",
        "mlp_model.add(Dropout(0.5))\n",
        "mlp_model.add(Dense(250, activation='relu',kernel_initializer='glorot_normal'))\n",
        "mlp_model.add(Dropout(0.5))\n",
        "mlp_model.add(Dense(100, activation='relu',kernel_initializer='glorot_normal'))\n",
        "mlp_model.add(Dropout(0.5))\n",
        "mlp_model.add(Dense(5, activation='softmax'))\n",
        "perceptron.compile(loss='categorical_crossentropy', optimizer=optimizers.SGD(lr=0.001), metrics=['mean_squared_error'])\n"
      ],
      "execution_count": 11,
      "outputs": []
    },
    {
      "cell_type": "code",
      "metadata": {
        "id": "IwYofcaXzWVa",
        "colab": {
          "base_uri": "https://localhost:8080/"
        },
        "outputId": "c2afe027-692e-46b4-dc36-abd476fb22e9"
      },
      "source": [
        "mlp_model.compile(loss=categorical_crossentropy, optimizer=SGD(lr=0.001), metrics=['accuracy'])          \n",
        "checkpoint = ModelCheckpoint('best_mlp_model.h5', verbose=1, monitor='val_accuracy', save_best_only=True,  mode='auto')  \n",
        "mlp_history = mlp_model.fit(X_train, y_train, batch_size=batch_size, epochs=epochs, verbose=1, \n",
        "                            callbacks=[checkpoint], validation_data=(X_test, y_test), shuffle=True)"
      ],
      "execution_count": 12,
      "outputs": [
        {
          "output_type": "stream",
          "text": [
            "Epoch 1/20\n",
            "272/282 [===========================>..] - ETA: 0s - loss: 2.1209 - accuracy: 0.2087\n",
            "Epoch 00001: val_accuracy improved from -inf to 0.25800, saving model to best_mlp_model.h5\n",
            "282/282 [==============================] - 2s 6ms/step - loss: 2.1107 - accuracy: 0.2097 - val_loss: 1.5809 - val_accuracy: 0.2580\n",
            "Epoch 2/20\n",
            "272/282 [===========================>..] - ETA: 0s - loss: 1.8179 - accuracy: 0.2206\n",
            "Epoch 00002: val_accuracy improved from 0.25800 to 0.27800, saving model to best_mlp_model.h5\n",
            "282/282 [==============================] - 1s 5ms/step - loss: 1.8162 - accuracy: 0.2209 - val_loss: 1.5802 - val_accuracy: 0.2780\n",
            "Epoch 3/20\n",
            "281/282 [============================>.] - ETA: 0s - loss: 1.7358 - accuracy: 0.2233\n",
            "Epoch 00003: val_accuracy improved from 0.27800 to 0.28900, saving model to best_mlp_model.h5\n",
            "282/282 [==============================] - 2s 5ms/step - loss: 1.7361 - accuracy: 0.2231 - val_loss: 1.5812 - val_accuracy: 0.2890\n",
            "Epoch 4/20\n",
            "279/282 [============================>.] - ETA: 0s - loss: 1.6908 - accuracy: 0.2296\n",
            "Epoch 00004: val_accuracy improved from 0.28900 to 0.29100, saving model to best_mlp_model.h5\n",
            "282/282 [==============================] - 1s 5ms/step - loss: 1.6903 - accuracy: 0.2295 - val_loss: 1.5798 - val_accuracy: 0.2910\n",
            "Epoch 5/20\n",
            "274/282 [============================>.] - ETA: 0s - loss: 1.6771 - accuracy: 0.2262\n",
            "Epoch 00005: val_accuracy improved from 0.29100 to 0.29850, saving model to best_mlp_model.h5\n",
            "282/282 [==============================] - 1s 5ms/step - loss: 1.6769 - accuracy: 0.2257 - val_loss: 1.5794 - val_accuracy: 0.2985\n",
            "Epoch 6/20\n",
            "280/282 [============================>.] - ETA: 0s - loss: 1.6513 - accuracy: 0.2363\n",
            "Epoch 00006: val_accuracy improved from 0.29850 to 0.31200, saving model to best_mlp_model.h5\n",
            "282/282 [==============================] - 1s 5ms/step - loss: 1.6513 - accuracy: 0.2362 - val_loss: 1.5791 - val_accuracy: 0.3120\n",
            "Epoch 7/20\n",
            "272/282 [===========================>..] - ETA: 0s - loss: 1.6401 - accuracy: 0.2400\n",
            "Epoch 00007: val_accuracy did not improve from 0.31200\n",
            "282/282 [==============================] - 1s 4ms/step - loss: 1.6404 - accuracy: 0.2396 - val_loss: 1.5783 - val_accuracy: 0.3120\n",
            "Epoch 8/20\n",
            "274/282 [============================>.] - ETA: 0s - loss: 1.6323 - accuracy: 0.2423\n",
            "Epoch 00008: val_accuracy improved from 0.31200 to 0.31400, saving model to best_mlp_model.h5\n",
            "282/282 [==============================] - 1s 5ms/step - loss: 1.6317 - accuracy: 0.2421 - val_loss: 1.5769 - val_accuracy: 0.3140\n",
            "Epoch 9/20\n",
            "279/282 [============================>.] - ETA: 0s - loss: 1.6222 - accuracy: 0.2461\n",
            "Epoch 00009: val_accuracy did not improve from 0.31400\n",
            "282/282 [==============================] - 1s 4ms/step - loss: 1.6224 - accuracy: 0.2462 - val_loss: 1.5755 - val_accuracy: 0.3130\n",
            "Epoch 10/20\n",
            "280/282 [============================>.] - ETA: 0s - loss: 1.6143 - accuracy: 0.2504\n",
            "Epoch 00010: val_accuracy improved from 0.31400 to 0.31500, saving model to best_mlp_model.h5\n",
            "282/282 [==============================] - 1s 5ms/step - loss: 1.6141 - accuracy: 0.2506 - val_loss: 1.5718 - val_accuracy: 0.3150\n",
            "Epoch 11/20\n",
            "277/282 [============================>.] - ETA: 0s - loss: 1.6086 - accuracy: 0.2511\n",
            "Epoch 00011: val_accuracy improved from 0.31500 to 0.32100, saving model to best_mlp_model.h5\n",
            "282/282 [==============================] - 2s 5ms/step - loss: 1.6079 - accuracy: 0.2511 - val_loss: 1.5708 - val_accuracy: 0.3210\n",
            "Epoch 12/20\n",
            "278/282 [============================>.] - ETA: 0s - loss: 1.6005 - accuracy: 0.2539\n",
            "Epoch 00012: val_accuracy improved from 0.32100 to 0.32200, saving model to best_mlp_model.h5\n",
            "282/282 [==============================] - 1s 5ms/step - loss: 1.6012 - accuracy: 0.2539 - val_loss: 1.5692 - val_accuracy: 0.3220\n",
            "Epoch 13/20\n",
            "276/282 [============================>.] - ETA: 0s - loss: 1.5935 - accuracy: 0.2569\n",
            "Epoch 00013: val_accuracy did not improve from 0.32200\n",
            "282/282 [==============================] - 1s 4ms/step - loss: 1.5931 - accuracy: 0.2571 - val_loss: 1.5666 - val_accuracy: 0.3205\n",
            "Epoch 14/20\n",
            "271/282 [===========================>..] - ETA: 0s - loss: 1.5894 - accuracy: 0.2589\n",
            "Epoch 00014: val_accuracy improved from 0.32200 to 0.32850, saving model to best_mlp_model.h5\n",
            "282/282 [==============================] - 1s 5ms/step - loss: 1.5892 - accuracy: 0.2599 - val_loss: 1.5639 - val_accuracy: 0.3285\n",
            "Epoch 15/20\n",
            "278/282 [============================>.] - ETA: 0s - loss: 1.5830 - accuracy: 0.2694\n",
            "Epoch 00015: val_accuracy improved from 0.32850 to 0.33100, saving model to best_mlp_model.h5\n",
            "282/282 [==============================] - 2s 5ms/step - loss: 1.5824 - accuracy: 0.2702 - val_loss: 1.5615 - val_accuracy: 0.3310\n",
            "Epoch 16/20\n",
            "272/282 [===========================>..] - ETA: 0s - loss: 1.5803 - accuracy: 0.2652\n",
            "Epoch 00016: val_accuracy did not improve from 0.33100\n",
            "282/282 [==============================] - 1s 4ms/step - loss: 1.5794 - accuracy: 0.2662 - val_loss: 1.5585 - val_accuracy: 0.3310\n",
            "Epoch 17/20\n",
            "281/282 [============================>.] - ETA: 0s - loss: 1.5742 - accuracy: 0.2721\n",
            "Epoch 00017: val_accuracy did not improve from 0.33100\n",
            "282/282 [==============================] - 1s 4ms/step - loss: 1.5742 - accuracy: 0.2722 - val_loss: 1.5555 - val_accuracy: 0.3300\n",
            "Epoch 18/20\n",
            "269/282 [===========================>..] - ETA: 0s - loss: 1.5724 - accuracy: 0.2743\n",
            "Epoch 00018: val_accuracy did not improve from 0.33100\n",
            "282/282 [==============================] - 1s 4ms/step - loss: 1.5724 - accuracy: 0.2744 - val_loss: 1.5532 - val_accuracy: 0.3250\n",
            "Epoch 19/20\n",
            "282/282 [==============================] - ETA: 0s - loss: 1.5702 - accuracy: 0.2722\n",
            "Epoch 00019: val_accuracy did not improve from 0.33100\n",
            "282/282 [==============================] - 1s 4ms/step - loss: 1.5702 - accuracy: 0.2722 - val_loss: 1.5505 - val_accuracy: 0.3265\n",
            "Epoch 20/20\n",
            "272/282 [===========================>..] - ETA: 0s - loss: 1.5631 - accuracy: 0.2804\n",
            "Epoch 00020: val_accuracy did not improve from 0.33100\n",
            "282/282 [==============================] - 1s 4ms/step - loss: 1.5627 - accuracy: 0.2808 - val_loss: 1.5486 - val_accuracy: 0.3295\n"
          ],
          "name": "stdout"
        }
      ]
    },
    {
      "cell_type": "code",
      "metadata": {
        "id": "DnjfotXoth4e",
        "colab": {
          "base_uri": "https://localhost:8080/"
        },
        "outputId": "aa94fe31-400e-48f0-ff82-3116519aa169"
      },
      "source": [
        "mlp_performance = mlp_model.evaluate(X_test, y_test, batch_size=64)"
      ],
      "execution_count": 13,
      "outputs": [
        {
          "output_type": "stream",
          "text": [
            "32/32 [==============================] - 0s 3ms/step - loss: 1.5486 - accuracy: 0.3295\n"
          ],
          "name": "stdout"
        }
      ]
    },
    {
      "cell_type": "markdown",
      "metadata": {
        "id": "3vgEP7OnGlR9"
      },
      "source": [
        "###Visualizing\n"
      ]
    },
    {
      "cell_type": "code",
      "metadata": {
        "id": "ktHNwzn0G73y",
        "colab": {
          "base_uri": "https://localhost:8080/",
          "height": 310
        },
        "outputId": "09a12d5e-3842-4108-d0d7-531e3b1015de"
      },
      "source": [
        "plot_graphs(mlp_history, mlp_performance); "
      ],
      "execution_count": 14,
      "outputs": [
        {
          "output_type": "display_data",
          "data": {
            "image/png": "[encoded data removed]",
            "text/plain": [
              "<Figure size 720x288 with 2 Axes>"
            ]
          },
          "metadata": {
            "tags": [],
            "needs_background": "light"
          }
        }
      ]
    },
    {
      "cell_type": "code",
      "metadata": {
        "id": "MgkxPwg2F7eL",
        "colab": {
          "base_uri": "https://localhost:8080/",
          "height": 383
        },
        "outputId": "f48e1051-b741-478f-e90a-944d6172703a"
      },
      "source": [
        "y_pred_mlp = mlp_model.predict_classes(X_test)\n",
        "y_true = np.argmax(y_test,axis=1)\n",
        "plot_confusion_matrix(y_true, y_pred_mlp)"
      ],
      "execution_count": 15,
      "outputs": [
        {
          "output_type": "stream",
          "text": [
            "WARNING:tensorflow:From <ipython-input-15-824b937afa04>:1: Sequential.predict_classes (from tensorflow.python.keras.engine.sequential) is deprecated and will be removed after 2021-01-01.\n",
            "Instructions for updating:\n",
            "Please use instead:* `np.argmax(model.predict(x), axis=-1)`,   if your model does multi-class classification   (e.g. if it uses a `softmax` last-layer activation).* `(model.predict(x) > 0.5).astype(\"int32\")`,   if your model does binary classification   (e.g. if it uses a `sigmoid` last-layer activation).\n",
            "Plotting the Confusion Matrix\n"
          ],
          "name": "stdout"
        },
        {
          "output_type": "display_data",
          "data": {
            "image/png": "[encoded data removed]",
            "text/plain": [
              "<Figure size 432x288 with 2 Axes>"
            ]
          },
          "metadata": {
            "tags": [],
            "needs_background": "light"
          }
        }
      ]
    },
    {
      "cell_type": "code",
      "metadata": {
        "id": "3yFQHl8n7Xjd",
        "cellView": "both"
      },
      "source": [
        "dataX_lm = np.load('./dataX.npy')\n",
        "dataY_lm = np.load('./dataY.npy')\n",
        "\n",
        "y_onehot = keras.utils.to_categorical(dataY_lm, len(set(dataY_lm)))"
      ],
      "execution_count": 16,
      "outputs": []
    },
    {
      "cell_type": "code",
      "metadata": {
        "id": "k-aKmK6e0a4J"
      },
      "source": [
        "X_train_lm, X_test_lm, y_train_lm, y_test_lm = train_test_split(dataX_lm, y_onehot, test_size=0.1, random_state=42)\n",
        "\n",
        "lm_scaler = StandardScaler()\n",
        "lm_scaler.fit(X_train_lm)\n",
        "X_train_lm = lm_scaler.transform(X_train_lm)\n",
        "X_test_lm = lm_scaler.transform(X_test_lm)"
      ],
      "execution_count": 17,
      "outputs": []
    },
    {
      "cell_type": "code",
      "metadata": {
        "id": "OPub4NX31R3q"
      },
      "source": [
        "nuerons = 500\n",
        "lm_model = Sequential()\n",
        "lm_model.add(Dense(5000, input_shape=(X_train_lm.shape[1],), activation='relu', kernel_initializer='glorot_normal'))\n",
        "lm_model.add(Dropout(0.5))\n",
        "lm_model.add(Dense(500, activation='relu',kernel_initializer='glorot_normal'))\n",
        "lm_model.add(Dropout(0.5))\n",
        "lm_model.add(Dense(250, activation='relu',kernel_initializer='glorot_normal'))\n",
        "lm_model.add(Dropout(0.5))\n",
        "lm_model.add(Dense(5, activation='softmax'))"
      ],
      "execution_count": 18,
      "outputs": []
    },
    {
      "cell_type": "code",
      "metadata": {
        "id": "_QEUcTxh7Ara",
        "colab": {
          "base_uri": "https://localhost:8080/"
        },
        "outputId": "d80efb72-1ecc-4b50-8777-d096f89d0244"
      },
      "source": [
        "lm_model.compile(loss=categorical_crossentropy, optimizer=SGD(lr=0.001), metrics=['accuracy'])\n",
        "\n",
        "checkpoint = ModelCheckpoint('best_lm_model.h5', verbose=1, monitor='val_loss',save_best_only=True,  mode='auto')  \n",
        "lm_history = lm_model.fit(X_train_lm, y_train_lm, batch_size=batch_size, epochs=epochs, \n",
        "                          verbose=1, callbacks=[checkpoint], validation_data=(X_test_lm, y_test_lm), shuffle=True)"
      ],
      "execution_count": 19,
      "outputs": [
        {
          "output_type": "stream",
          "text": [
            "Epoch 1/20\n",
            "280/282 [============================>.] - ETA: 0s - loss: 1.9684 - accuracy: 0.2741\n",
            "Epoch 00001: val_loss improved from inf to 1.36685, saving model to best_lm_model.h5\n",
            "282/282 [==============================] - 2s 7ms/step - loss: 1.9664 - accuracy: 0.2748 - val_loss: 1.3669 - val_accuracy: 0.4330\n",
            "Epoch 2/20\n",
            "273/282 [============================>.] - ETA: 0s - loss: 1.6185 - accuracy: 0.3458\n",
            "Epoch 00002: val_loss improved from 1.36685 to 1.34284, saving model to best_lm_model.h5\n",
            "282/282 [==============================] - 2s 6ms/step - loss: 1.6155 - accuracy: 0.3469 - val_loss: 1.3428 - val_accuracy: 0.4490\n",
            "Epoch 3/20\n",
            "275/282 [============================>.] - ETA: 0s - loss: 1.5278 - accuracy: 0.3682\n",
            "Epoch 00003: val_loss improved from 1.34284 to 1.33253, saving model to best_lm_model.h5\n",
            "282/282 [==============================] - 3s 11ms/step - loss: 1.5298 - accuracy: 0.3670 - val_loss: 1.3325 - val_accuracy: 0.4425\n",
            "Epoch 4/20\n",
            "277/282 [============================>.] - ETA: 0s - loss: 1.4711 - accuracy: 0.3816\n",
            "Epoch 00004: val_loss improved from 1.33253 to 1.32332, saving model to best_lm_model.h5\n",
            "282/282 [==============================] - 2s 6ms/step - loss: 1.4705 - accuracy: 0.3818 - val_loss: 1.3233 - val_accuracy: 0.4580\n",
            "Epoch 5/20\n",
            "273/282 [============================>.] - ETA: 0s - loss: 1.4380 - accuracy: 0.3975\n",
            "Epoch 00005: val_loss improved from 1.32332 to 1.31466, saving model to best_lm_model.h5\n",
            "282/282 [==============================] - 3s 11ms/step - loss: 1.4392 - accuracy: 0.3978 - val_loss: 1.3147 - val_accuracy: 0.4660\n",
            "Epoch 6/20\n",
            "281/282 [============================>.] - ETA: 0s - loss: 1.4139 - accuracy: 0.4074\n",
            "Epoch 00006: val_loss improved from 1.31466 to 1.31028, saving model to best_lm_model.h5\n",
            "282/282 [==============================] - 2s 6ms/step - loss: 1.4137 - accuracy: 0.4077 - val_loss: 1.3103 - val_accuracy: 0.4755\n",
            "Epoch 7/20\n",
            "274/282 [============================>.] - ETA: 0s - loss: 1.4005 - accuracy: 0.4078\n",
            "Epoch 00007: val_loss improved from 1.31028 to 1.30344, saving model to best_lm_model.h5\n",
            "282/282 [==============================] - 3s 10ms/step - loss: 1.3985 - accuracy: 0.4089 - val_loss: 1.3034 - val_accuracy: 0.4775\n",
            "Epoch 8/20\n",
            "278/282 [============================>.] - ETA: 0s - loss: 1.3902 - accuracy: 0.4111\n",
            "Epoch 00008: val_loss improved from 1.30344 to 1.29945, saving model to best_lm_model.h5\n",
            "282/282 [==============================] - 2s 6ms/step - loss: 1.3902 - accuracy: 0.4113 - val_loss: 1.2994 - val_accuracy: 0.4705\n",
            "Epoch 9/20\n",
            "279/282 [============================>.] - ETA: 0s - loss: 1.3795 - accuracy: 0.4234\n",
            "Epoch 00009: val_loss improved from 1.29945 to 1.29542, saving model to best_lm_model.h5\n",
            "282/282 [==============================] - 2s 7ms/step - loss: 1.3798 - accuracy: 0.4232 - val_loss: 1.2954 - val_accuracy: 0.4790\n",
            "Epoch 10/20\n",
            "278/282 [============================>.] - ETA: 0s - loss: 1.3587 - accuracy: 0.4300\n",
            "Epoch 00010: val_loss improved from 1.29542 to 1.28877, saving model to best_lm_model.h5\n",
            "282/282 [==============================] - 2s 6ms/step - loss: 1.3581 - accuracy: 0.4303 - val_loss: 1.2888 - val_accuracy: 0.4715\n",
            "Epoch 11/20\n",
            "279/282 [============================>.] - ETA: 0s - loss: 1.3577 - accuracy: 0.4330\n",
            "Epoch 00011: val_loss improved from 1.28877 to 1.28446, saving model to best_lm_model.h5\n",
            "282/282 [==============================] - 3s 10ms/step - loss: 1.3577 - accuracy: 0.4327 - val_loss: 1.2845 - val_accuracy: 0.4815\n",
            "Epoch 12/20\n",
            "277/282 [============================>.] - ETA: 0s - loss: 1.3492 - accuracy: 0.4315\n",
            "Epoch 00012: val_loss improved from 1.28446 to 1.27948, saving model to best_lm_model.h5\n",
            "282/282 [==============================] - 2s 6ms/step - loss: 1.3483 - accuracy: 0.4325 - val_loss: 1.2795 - val_accuracy: 0.4855\n",
            "Epoch 13/20\n",
            "279/282 [============================>.] - ETA: 0s - loss: 1.3353 - accuracy: 0.4430\n",
            "Epoch 00013: val_loss improved from 1.27948 to 1.27557, saving model to best_lm_model.h5\n",
            "282/282 [==============================] - 3s 10ms/step - loss: 1.3348 - accuracy: 0.4432 - val_loss: 1.2756 - val_accuracy: 0.4855\n",
            "Epoch 14/20\n",
            "275/282 [============================>.] - ETA: 0s - loss: 1.3322 - accuracy: 0.4378\n",
            "Epoch 00014: val_loss did not improve from 1.27557\n",
            "282/282 [==============================] - 2s 6ms/step - loss: 1.3329 - accuracy: 0.4374 - val_loss: 1.2760 - val_accuracy: 0.4920\n",
            "Epoch 15/20\n",
            "279/282 [============================>.] - ETA: 0s - loss: 1.3252 - accuracy: 0.4468\n",
            "Epoch 00015: val_loss improved from 1.27557 to 1.27237, saving model to best_lm_model.h5\n",
            "282/282 [==============================] - 2s 6ms/step - loss: 1.3248 - accuracy: 0.4469 - val_loss: 1.2724 - val_accuracy: 0.4900\n",
            "Epoch 16/20\n",
            "282/282 [==============================] - ETA: 0s - loss: 1.3204 - accuracy: 0.4465\n",
            "Epoch 00016: val_loss improved from 1.27237 to 1.27074, saving model to best_lm_model.h5\n",
            "282/282 [==============================] - 3s 10ms/step - loss: 1.3204 - accuracy: 0.4465 - val_loss: 1.2707 - val_accuracy: 0.4900\n",
            "Epoch 17/20\n",
            "279/282 [============================>.] - ETA: 0s - loss: 1.3068 - accuracy: 0.4546\n",
            "Epoch 00017: val_loss improved from 1.27074 to 1.26491, saving model to best_lm_model.h5\n",
            "282/282 [==============================] - 3s 10ms/step - loss: 1.3073 - accuracy: 0.4543 - val_loss: 1.2649 - val_accuracy: 0.4940\n",
            "Epoch 18/20\n",
            "281/282 [============================>.] - ETA: 0s - loss: 1.3071 - accuracy: 0.4527\n",
            "Epoch 00018: val_loss improved from 1.26491 to 1.26124, saving model to best_lm_model.h5\n",
            "282/282 [==============================] - 2s 7ms/step - loss: 1.3072 - accuracy: 0.4526 - val_loss: 1.2612 - val_accuracy: 0.4930\n",
            "Epoch 19/20\n",
            "279/282 [============================>.] - ETA: 0s - loss: 1.3069 - accuracy: 0.4540\n",
            "Epoch 00019: val_loss improved from 1.26124 to 1.25685, saving model to best_lm_model.h5\n",
            "282/282 [==============================] - 2s 7ms/step - loss: 1.3063 - accuracy: 0.4537 - val_loss: 1.2569 - val_accuracy: 0.4980\n",
            "Epoch 20/20\n",
            "280/282 [============================>.] - ETA: 0s - loss: 1.2986 - accuracy: 0.4545\n",
            "Epoch 00020: val_loss improved from 1.25685 to 1.25336, saving model to best_lm_model.h5\n",
            "282/282 [==============================] - 2s 6ms/step - loss: 1.2983 - accuracy: 0.4543 - val_loss: 1.2534 - val_accuracy: 0.4990\n"
          ],
          "name": "stdout"
        }
      ]
    },
    {
      "cell_type": "markdown",
      "metadata": {
        "id": "Xb2ruZoq1YPO"
      },
      "source": [
        "### Evaluate model"
      ]
    },
    {
      "cell_type": "code",
      "metadata": {
        "id": "IBOe-N6NgQag",
        "colab": {
          "base_uri": "https://localhost:8080/"
        },
        "outputId": "900f30c9-41e4-48fb-ef32-5b43554fcad6"
      },
      "source": [
        "lm_performance = lm_model.evaluate(x=X_test_lm,y=y_test_lm, batch_size=64)"
      ],
      "execution_count": 20,
      "outputs": [
        {
          "output_type": "stream",
          "text": [
            "32/32 [==============================] - 0s 4ms/step - loss: 1.2534 - accuracy: 0.4990\n"
          ],
          "name": "stdout"
        }
      ]
    },
    {
      "cell_type": "markdown",
      "metadata": {
        "id": "yj3XDT2eu31x"
      },
      "source": [
        "###Visualize accuracy and loss over training + display best model's performance"
      ]
    },
    {
      "cell_type": "code",
      "metadata": {
        "id": "kG1V_8AIs9Xf",
        "colab": {
          "base_uri": "https://localhost:8080/",
          "height": 310
        },
        "outputId": "26500776-a9a6-41f2-aeae-28d405a5ecaa"
      },
      "source": [
        "\n",
        "plot_graphs(lm_history, lm_performance); "
      ],
      "execution_count": 21,
      "outputs": [
        {
          "output_type": "display_data",
          "data": {
            "image/png": "[encoded data removed]",
            "text/plain": [
              "<Figure size 720x288 with 2 Axes>"
            ]
          },
          "metadata": {
            "tags": [],
            "needs_background": "light"
          }
        }
      ]
    },
    {
      "cell_type": "code",
      "metadata": {
        "id": "OvPqbBy8Cc1G"
      },
      "source": [
        "width, height = 48, 48"
      ],
      "execution_count": 22,
      "outputs": []
    },
    {
      "cell_type": "markdown",
      "metadata": {
        "id": "wTH-IlrL0HVE"
      },
      "source": [
        "###Reshape the inputs"
      ]
    },
    {
      "cell_type": "code",
      "metadata": {
        "id": "DwTlyCBk6FOd",
        "colab": {
          "base_uri": "https://localhost:8080/"
        },
        "outputId": "e07d026e-cb99-4156-8468-1a4d44949a0b"
      },
      "source": [
        "print(X_train.shape) "
      ],
      "execution_count": 23,
      "outputs": [
        {
          "output_type": "stream",
          "text": [
            "(18000, 2304)\n"
          ],
          "name": "stdout"
        }
      ]
    },
    {
      "cell_type": "code",
      "metadata": {
        "id": "NNSP1-vz6Lnk",
        "colab": {
          "base_uri": "https://localhost:8080/"
        },
        "outputId": "29819f75-9c4f-4a8f-a7c0-598c25581784"
      },
      "source": [
        "X_train_cnn = X_train.reshape(len(X_train),height,width)\n",
        "X_test_cnn = X_test.reshape(len(X_test),height,width)\n",
        "\n",
        "print(X_train_cnn.shape) "
      ],
      "execution_count": 24,
      "outputs": [
        {
          "output_type": "stream",
          "text": [
            "(18000, 48, 48)\n"
          ],
          "name": "stdout"
        }
      ]
    },
    {
      "cell_type": "code",
      "metadata": {
        "id": "RFP5S57i69o7",
        "colab": {
          "base_uri": "https://localhost:8080/"
        },
        "outputId": "305d921a-0ff4-49b8-b015-69d619303b16"
      },
      "source": [
        "X_train_cnn = np.expand_dims(X_train_cnn,3)\n",
        "X_test_cnn = np.expand_dims(X_test_cnn,3)\n",
        "\n",
        "print(X_train_cnn.shape)"
      ],
      "execution_count": 25,
      "outputs": [
        {
          "output_type": "stream",
          "text": [
            "(18000, 48, 48, 1)\n"
          ],
          "name": "stdout"
        }
      ]
    },
    {
      "cell_type": "code",
      "metadata": {
        "id": "vtRf96cBdcom"
      },
      "source": [
        "cnn_model = Sequential()\n",
        "cnn_model.add(Conv2D(64, kernel_size=(3, 3), activation='relu', input_shape=(width, height, 1)))\n",
        "cnn_model.add(BatchNormalization())\n",
        "cnn_model.add(MaxPooling2D(pool_size=(2, 2), strides=(2, 2)))\n",
        "cnn_model.add(Dropout(0.5))\n",
        "\n",
        "cnn_model.add(Conv2D(96, kernel_size=(3, 3), activation='relu', input_shape=(width, height, 1)))\n",
        "cnn_model.add(BatchNormalization())\n",
        "cnn_model.add(MaxPooling2D(pool_size=(2, 2), strides=(2, 2)))\n",
        "cnn_model.add(Dropout(0.5))\n",
        "\n",
        "cnn_model.add(Conv2D(96, kernel_size=(3, 3), activation='relu', input_shape=(width, height, 1)))\n",
        "cnn_model.add(BatchNormalization())\n",
        "cnn_model.add(MaxPooling2D(pool_size=(2, 2), strides=(2, 2)))\n",
        "cnn_model.add(Dropout(0.5))\n",
        "\n",
        "cnn_model.add(Conv2D(128, kernel_size=(3, 3), activation='relu', input_shape=(width, height, 1)))\n",
        "cnn_model.add(BatchNormalization())\n",
        "cnn_model.add(MaxPooling2D(pool_size=(2, 2), strides=(2, 2)))\n",
        "cnn_model.add(Dropout(0.5))\n",
        "\n",
        "cnn_model.add(Flatten())\n",
        "cnn_model.add(Dense(512, activation='relu'))\n",
        "cnn_model.add(Dense(n_labels, activation='softmax'))"
      ],
      "execution_count": 26,
      "outputs": []
    },
    {
      "cell_type": "code",
      "metadata": {
        "id": "YqirnWL8wDGR",
        "colab": {
          "base_uri": "https://localhost:8080/"
        },
        "outputId": "7f17dc2c-f985-4894-eb84-0a3366d981af"
      },
      "source": [
        "checkpoint = ModelCheckpoint('best_cnn_model.h5', verbose=1, monitor='val_loss',save_best_only=True, mode='auto')  \n",
        "\n",
        "cnn_model.compile(loss=categorical_crossentropy, optimizer=Adam(lr=0.001, beta_1=0.9, beta_2=0.999), metrics=['accuracy'])\n",
        "\n",
        "cnn_history = cnn_model.fit(X_train_cnn, y_train, batch_size=batch_size, epochs=epochs, verbose=1, \n",
        "                            callbacks=[checkpoint], validation_data=(X_test_cnn, y_test), shuffle=True)"
      ],
      "execution_count": 27,
      "outputs": [
        {
          "output_type": "stream",
          "text": [
            "Epoch 1/20\n",
            "282/282 [==============================] - ETA: 0s - loss: 1.6517 - accuracy: 0.2797\n",
            "Epoch 00001: val_loss improved from inf to 1.91161, saving model to best_cnn_model.h5\n",
            "282/282 [==============================] - 4s 13ms/step - loss: 1.6517 - accuracy: 0.2797 - val_loss: 1.9116 - val_accuracy: 0.2370\n",
            "Epoch 2/20\n",
            "282/282 [==============================] - ETA: 0s - loss: 1.4731 - accuracy: 0.3549\n",
            "Epoch 00002: val_loss improved from 1.91161 to 1.49165, saving model to best_cnn_model.h5\n",
            "282/282 [==============================] - 3s 12ms/step - loss: 1.4731 - accuracy: 0.3549 - val_loss: 1.4917 - val_accuracy: 0.3760\n",
            "Epoch 3/20\n",
            "279/282 [============================>.] - ETA: 0s - loss: 1.3773 - accuracy: 0.4047\n",
            "Epoch 00003: val_loss improved from 1.49165 to 1.32424, saving model to best_cnn_model.h5\n",
            "282/282 [==============================] - 3s 12ms/step - loss: 1.3774 - accuracy: 0.4046 - val_loss: 1.3242 - val_accuracy: 0.4765\n",
            "Epoch 4/20\n",
            "279/282 [============================>.] - ETA: 0s - loss: 1.3081 - accuracy: 0.4470\n",
            "Epoch 00004: val_loss improved from 1.32424 to 1.18985, saving model to best_cnn_model.h5\n",
            "282/282 [==============================] - 3s 12ms/step - loss: 1.3082 - accuracy: 0.4469 - val_loss: 1.1898 - val_accuracy: 0.5260\n",
            "Epoch 5/20\n",
            "279/282 [============================>.] - ETA: 0s - loss: 1.2509 - accuracy: 0.4841\n",
            "Epoch 00005: val_loss improved from 1.18985 to 1.16098, saving model to best_cnn_model.h5\n",
            "282/282 [==============================] - 3s 12ms/step - loss: 1.2506 - accuracy: 0.4842 - val_loss: 1.1610 - val_accuracy: 0.5310\n",
            "Epoch 6/20\n",
            "279/282 [============================>.] - ETA: 0s - loss: 1.2102 - accuracy: 0.5028\n",
            "Epoch 00006: val_loss improved from 1.16098 to 1.14722, saving model to best_cnn_model.h5\n",
            "282/282 [==============================] - 3s 12ms/step - loss: 1.2100 - accuracy: 0.5028 - val_loss: 1.1472 - val_accuracy: 0.5380\n",
            "Epoch 7/20\n",
            "280/282 [============================>.] - ETA: 0s - loss: 1.1747 - accuracy: 0.5204\n",
            "Epoch 00007: val_loss improved from 1.14722 to 1.06362, saving model to best_cnn_model.h5\n",
            "282/282 [==============================] - 3s 12ms/step - loss: 1.1751 - accuracy: 0.5206 - val_loss: 1.0636 - val_accuracy: 0.5740\n",
            "Epoch 8/20\n",
            "278/282 [============================>.] - ETA: 0s - loss: 1.1492 - accuracy: 0.5330\n",
            "Epoch 00008: val_loss improved from 1.06362 to 1.03031, saving model to best_cnn_model.h5\n",
            "282/282 [==============================] - 3s 12ms/step - loss: 1.1494 - accuracy: 0.5331 - val_loss: 1.0303 - val_accuracy: 0.5865\n",
            "Epoch 9/20\n",
            "281/282 [============================>.] - ETA: 0s - loss: 1.1179 - accuracy: 0.5458\n",
            "Epoch 00009: val_loss improved from 1.03031 to 1.01532, saving model to best_cnn_model.h5\n",
            "282/282 [==============================] - 3s 12ms/step - loss: 1.1181 - accuracy: 0.5459 - val_loss: 1.0153 - val_accuracy: 0.6085\n",
            "Epoch 10/20\n",
            "278/282 [============================>.] - ETA: 0s - loss: 1.0945 - accuracy: 0.5553\n",
            "Epoch 00010: val_loss improved from 1.01532 to 1.00784, saving model to best_cnn_model.h5\n",
            "282/282 [==============================] - 3s 12ms/step - loss: 1.0956 - accuracy: 0.5548 - val_loss: 1.0078 - val_accuracy: 0.6015\n",
            "Epoch 11/20\n",
            "278/282 [============================>.] - ETA: 0s - loss: 1.0779 - accuracy: 0.5660\n",
            "Epoch 00011: val_loss improved from 1.00784 to 0.98821, saving model to best_cnn_model.h5\n",
            "282/282 [==============================] - 3s 12ms/step - loss: 1.0769 - accuracy: 0.5663 - val_loss: 0.9882 - val_accuracy: 0.5995\n",
            "Epoch 12/20\n",
            "282/282 [==============================] - ETA: 0s - loss: 1.0511 - accuracy: 0.5790\n",
            "Epoch 00012: val_loss improved from 0.98821 to 0.97306, saving model to best_cnn_model.h5\n",
            "282/282 [==============================] - 3s 12ms/step - loss: 1.0511 - accuracy: 0.5790 - val_loss: 0.9731 - val_accuracy: 0.6205\n",
            "Epoch 13/20\n",
            "279/282 [============================>.] - ETA: 0s - loss: 1.0455 - accuracy: 0.5793\n",
            "Epoch 00013: val_loss improved from 0.97306 to 0.96652, saving model to best_cnn_model.h5\n",
            "282/282 [==============================] - 3s 12ms/step - loss: 1.0461 - accuracy: 0.5794 - val_loss: 0.9665 - val_accuracy: 0.6055\n",
            "Epoch 14/20\n",
            "278/282 [============================>.] - ETA: 0s - loss: 1.0294 - accuracy: 0.5861\n",
            "Epoch 00014: val_loss improved from 0.96652 to 0.94445, saving model to best_cnn_model.h5\n",
            "282/282 [==============================] - 3s 12ms/step - loss: 1.0286 - accuracy: 0.5863 - val_loss: 0.9444 - val_accuracy: 0.6240\n",
            "Epoch 15/20\n",
            "280/282 [============================>.] - ETA: 0s - loss: 1.0160 - accuracy: 0.5928\n",
            "Epoch 00015: val_loss did not improve from 0.94445\n",
            "282/282 [==============================] - 3s 12ms/step - loss: 1.0152 - accuracy: 0.5931 - val_loss: 0.9571 - val_accuracy: 0.6170\n",
            "Epoch 16/20\n",
            "280/282 [============================>.] - ETA: 0s - loss: 1.0083 - accuracy: 0.5973\n",
            "Epoch 00016: val_loss improved from 0.94445 to 0.91479, saving model to best_cnn_model.h5\n",
            "282/282 [==============================] - 3s 12ms/step - loss: 1.0089 - accuracy: 0.5971 - val_loss: 0.9148 - val_accuracy: 0.6345\n",
            "Epoch 17/20\n",
            "281/282 [============================>.] - ETA: 0s - loss: 0.9957 - accuracy: 0.6059\n",
            "Epoch 00017: val_loss did not improve from 0.91479\n",
            "282/282 [==============================] - 3s 12ms/step - loss: 0.9955 - accuracy: 0.6061 - val_loss: 0.9217 - val_accuracy: 0.6370\n",
            "Epoch 18/20\n",
            "279/282 [============================>.] - ETA: 0s - loss: 0.9839 - accuracy: 0.6094\n",
            "Epoch 00018: val_loss improved from 0.91479 to 0.90881, saving model to best_cnn_model.h5\n",
            "282/282 [==============================] - 3s 12ms/step - loss: 0.9822 - accuracy: 0.6103 - val_loss: 0.9088 - val_accuracy: 0.6335\n",
            "Epoch 19/20\n",
            "278/282 [============================>.] - ETA: 0s - loss: 0.9701 - accuracy: 0.6131\n",
            "Epoch 00019: val_loss improved from 0.90881 to 0.90077, saving model to best_cnn_model.h5\n",
            "282/282 [==============================] - 3s 12ms/step - loss: 0.9707 - accuracy: 0.6131 - val_loss: 0.9008 - val_accuracy: 0.6405\n",
            "Epoch 20/20\n",
            "279/282 [============================>.] - ETA: 0s - loss: 0.9727 - accuracy: 0.6102\n",
            "Epoch 00020: val_loss did not improve from 0.90077\n",
            "282/282 [==============================] - 3s 12ms/step - loss: 0.9733 - accuracy: 0.6101 - val_loss: 0.9060 - val_accuracy: 0.6365\n"
          ],
          "name": "stdout"
        }
      ]
    },
    {
      "cell_type": "markdown",
      "metadata": {
        "id": "wXprpaHpxVb-"
      },
      "source": [
        "###Evaluate the model\n"
      ]
    },
    {
      "cell_type": "code",
      "metadata": {
        "id": "JvCbnwZ_CBYv",
        "colab": {
          "base_uri": "https://localhost:8080/"
        },
        "outputId": "0ec5bd7a-ead9-4782-f756-724a7438a8f8"
      },
      "source": [
        "cnn_performance = cnn_model.evaluate(x=X_test_cnn,y=y_test_lm, batch_size=64)\n",
        "cnn_performance"
      ],
      "execution_count": 28,
      "outputs": [
        {
          "output_type": "stream",
          "text": [
            "32/32 [==============================] - 0s 5ms/step - loss: 0.9060 - accuracy: 0.6365\n"
          ],
          "name": "stdout"
        },
        {
          "output_type": "execute_result",
          "data": {
            "text/plain": [
              "[0.9059977531433105, 0.6365000009536743]"
            ]
          },
          "metadata": {
            "tags": []
          },
          "execution_count": 28
        }
      ]
    },
    {
      "cell_type": "markdown",
      "metadata": {
        "id": "_eqKTSlRmEGF"
      },
      "source": [
        "\n",
        "\n",
        "```\n",
        "# This is formatted as code\n",
        "```\n",
        "\n",
        "#Even better model pre-ran then frozen to change weights\n"
      ]
    },
    {
      "cell_type": "code",
      "metadata": {
        "id": "OPpE58jJmIdY",
        "colab": {
          "base_uri": "https://localhost:8080/"
        },
        "outputId": "87092406-626a-43dc-e70a-2ed99e32dfd9"
      },
      "source": [
        "\n",
        "import keras\n",
        "from keras.models import Sequential\n",
        "from keras.layers import Activation, MaxPooling2D, Dropout, Flatten, Reshape, Dense, Conv2D, GlobalAveragePooling2D\n",
        "from keras.wrappers.scikit_learn import KerasClassifier\n",
        "import keras.optimizers as optimizers\n",
        "from keras.applications.vgg16 import VGG16\n",
        "\n",
        "vgg_expert = VGG16(weights = 'imagenet', include_top = False, input_shape = (48, 48, 3))\n",
        "\n",
        "vgg_model = Sequential()\n",
        "vgg_model.add(vgg_expert)\n",
        "\n",
        "vgg_model.add(GlobalAveragePooling2D())\n",
        "vgg_model.add(Dense(1024, activation = 'relu'))\n",
        "vgg_model.add(Dropout(0.3))\n",
        "vgg_model.add(Dense(512, activation = 'relu'))\n",
        "vgg_model.add(Dropout(0.3))\n",
        "vgg_model.add(Dense(5, activation = 'sigmoid'))\n",
        "\n",
        "vgg_model.compile(loss = 'categorical_crossentropy', \n",
        "          optimizer = optimizers.SGD(lr=1e-4, momentum=0.95), \n",
        "          metrics=['accuracy'])\n",
        "\n",
        "X_TRAIN = np.array([np.transpose(np.array([X_train_cnn[ix].squeeze() for i in range(3)]), (1,2,0)) for ix in range(len(X_train))])\n",
        "X_TEST = np.array([np.transpose(np.array([X_test_cnn[ix].squeeze() for i in range(3)]), (1,2,0)) for ix in range(len(X_test))])\n",
        "\n",
        "vgg_history = vgg_model.fit(X_TRAIN, y_train,\n",
        "          batch_size=batch_size,\n",
        "          epochs=epochs,\n",
        "          verbose=1,\n",
        "          callbacks=[checkpoint],\n",
        "          validation_data=(X_TEST, y_test),\n",
        "          shuffle=True)"
      ],
      "execution_count": 29,
      "outputs": [
        {
          "output_type": "stream",
          "text": [
            "Downloading data from https://storage.googleapis.com/tensorflow/keras-applications/vgg16/vgg16_weights_tf_dim_ordering_tf_kernels_notop.h5\n",
            "58892288/58889256 [==============================] - 1s 0us/step\n",
            "Epoch 1/20\n",
            "  2/282 [..............................] - ETA: 8s - loss: 1.6137 - accuracy: 0.2656WARNING:tensorflow:Callbacks method `on_train_batch_end` is slow compared to the batch time (batch time: 0.0217s vs `on_train_batch_end` time: 0.0372s). Check your callbacks.\n",
            "282/282 [==============================] - ETA: 0s - loss: 1.5088 - accuracy: 0.3142\n",
            "Epoch 00001: val_loss did not improve from 0.90077\n",
            "282/282 [==============================] - 18s 64ms/step - loss: 1.5088 - accuracy: 0.3142 - val_loss: 1.3262 - val_accuracy: 0.4525\n",
            "Epoch 2/20\n",
            "281/282 [============================>.] - ETA: 0s - loss: 1.2812 - accuracy: 0.4670\n",
            "Epoch 00002: val_loss did not improve from 0.90077\n",
            "282/282 [==============================] - 18s 62ms/step - loss: 1.2812 - accuracy: 0.4669 - val_loss: 1.1447 - val_accuracy: 0.5330\n",
            "Epoch 3/20\n",
            "281/282 [============================>.] - ETA: 0s - loss: 1.1499 - accuracy: 0.5315\n",
            "Epoch 00003: val_loss did not improve from 0.90077\n",
            "282/282 [==============================] - 17s 62ms/step - loss: 1.1498 - accuracy: 0.5314 - val_loss: 1.0427 - val_accuracy: 0.5710\n",
            "Epoch 4/20\n",
            "281/282 [============================>.] - ETA: 0s - loss: 1.0595 - accuracy: 0.5701\n",
            "Epoch 00004: val_loss did not improve from 0.90077\n",
            "282/282 [==============================] - 17s 61ms/step - loss: 1.0595 - accuracy: 0.5701 - val_loss: 1.0509 - val_accuracy: 0.5800\n",
            "Epoch 5/20\n",
            "281/282 [============================>.] - ETA: 0s - loss: 0.9981 - accuracy: 0.5973\n",
            "Epoch 00005: val_loss did not improve from 0.90077\n",
            "282/282 [==============================] - 17s 62ms/step - loss: 0.9980 - accuracy: 0.5975 - val_loss: 0.9887 - val_accuracy: 0.5980\n",
            "Epoch 6/20\n",
            "281/282 [============================>.] - ETA: 0s - loss: 0.9567 - accuracy: 0.6213\n",
            "Epoch 00006: val_loss did not improve from 0.90077\n",
            "282/282 [==============================] - 17s 62ms/step - loss: 0.9566 - accuracy: 0.6213 - val_loss: 0.9295 - val_accuracy: 0.6305\n",
            "Epoch 7/20\n",
            "281/282 [============================>.] - ETA: 0s - loss: 0.9199 - accuracy: 0.6344\n",
            "Epoch 00007: val_loss did not improve from 0.90077\n",
            "282/282 [==============================] - 18s 62ms/step - loss: 0.9200 - accuracy: 0.6343 - val_loss: 0.9213 - val_accuracy: 0.6345\n",
            "Epoch 8/20\n",
            "281/282 [============================>.] - ETA: 0s - loss: 0.8747 - accuracy: 0.6567\n",
            "Epoch 00008: val_loss improved from 0.90077 to 0.88744, saving model to best_cnn_model.h5\n",
            "282/282 [==============================] - 18s 63ms/step - loss: 0.8746 - accuracy: 0.6568 - val_loss: 0.8874 - val_accuracy: 0.6525\n",
            "Epoch 9/20\n",
            "281/282 [============================>.] - ETA: 0s - loss: 0.8596 - accuracy: 0.6601\n",
            "Epoch 00009: val_loss did not improve from 0.88744\n",
            "282/282 [==============================] - 17s 61ms/step - loss: 0.8594 - accuracy: 0.6602 - val_loss: 0.9013 - val_accuracy: 0.6460\n",
            "Epoch 10/20\n",
            "281/282 [============================>.] - ETA: 0s - loss: 0.8248 - accuracy: 0.6769\n",
            "Epoch 00010: val_loss improved from 0.88744 to 0.86588, saving model to best_cnn_model.h5\n",
            "282/282 [==============================] - 18s 63ms/step - loss: 0.8250 - accuracy: 0.6767 - val_loss: 0.8659 - val_accuracy: 0.6620\n",
            "Epoch 11/20\n",
            "281/282 [============================>.] - ETA: 0s - loss: 0.7809 - accuracy: 0.6953\n",
            "Epoch 00011: val_loss did not improve from 0.86588\n",
            "282/282 [==============================] - 17s 61ms/step - loss: 0.7810 - accuracy: 0.6952 - val_loss: 0.8789 - val_accuracy: 0.6590\n",
            "Epoch 12/20\n",
            "281/282 [============================>.] - ETA: 0s - loss: 0.7591 - accuracy: 0.7032\n",
            "Epoch 00012: val_loss improved from 0.86588 to 0.83609, saving model to best_cnn_model.h5\n",
            "282/282 [==============================] - 18s 63ms/step - loss: 0.7591 - accuracy: 0.7032 - val_loss: 0.8361 - val_accuracy: 0.6720\n",
            "Epoch 13/20\n",
            "281/282 [============================>.] - ETA: 0s - loss: 0.7370 - accuracy: 0.7143\n",
            "Epoch 00013: val_loss did not improve from 0.83609\n",
            "282/282 [==============================] - 17s 61ms/step - loss: 0.7372 - accuracy: 0.7142 - val_loss: 0.8651 - val_accuracy: 0.6585\n",
            "Epoch 14/20\n",
            "281/282 [============================>.] - ETA: 0s - loss: 0.7014 - accuracy: 0.7285\n",
            "Epoch 00014: val_loss did not improve from 0.83609\n",
            "282/282 [==============================] - 17s 61ms/step - loss: 0.7011 - accuracy: 0.7287 - val_loss: 0.8403 - val_accuracy: 0.6705\n",
            "Epoch 15/20\n",
            "281/282 [============================>.] - ETA: 0s - loss: 0.6692 - accuracy: 0.7425\n",
            "Epoch 00015: val_loss did not improve from 0.83609\n",
            "282/282 [==============================] - 17s 62ms/step - loss: 0.6690 - accuracy: 0.7427 - val_loss: 0.8857 - val_accuracy: 0.6620\n",
            "Epoch 16/20\n",
            "281/282 [============================>.] - ETA: 0s - loss: 0.6399 - accuracy: 0.7549\n",
            "Epoch 00016: val_loss did not improve from 0.83609\n",
            "282/282 [==============================] - 17s 61ms/step - loss: 0.6397 - accuracy: 0.7549 - val_loss: 0.8818 - val_accuracy: 0.6735\n",
            "Epoch 17/20\n",
            "281/282 [============================>.] - ETA: 0s - loss: 0.6109 - accuracy: 0.7671\n",
            "Epoch 00017: val_loss did not improve from 0.83609\n",
            "282/282 [==============================] - 17s 61ms/step - loss: 0.6109 - accuracy: 0.7672 - val_loss: 0.8585 - val_accuracy: 0.6775\n",
            "Epoch 18/20\n",
            "281/282 [============================>.] - ETA: 0s - loss: 0.5838 - accuracy: 0.7744\n",
            "Epoch 00018: val_loss did not improve from 0.83609\n",
            "282/282 [==============================] - 17s 61ms/step - loss: 0.5836 - accuracy: 0.7744 - val_loss: 0.8733 - val_accuracy: 0.6750\n",
            "Epoch 19/20\n",
            "281/282 [============================>.] - ETA: 0s - loss: 0.5458 - accuracy: 0.7919\n",
            "Epoch 00019: val_loss did not improve from 0.83609\n",
            "282/282 [==============================] - 17s 61ms/step - loss: 0.5460 - accuracy: 0.7918 - val_loss: 0.8758 - val_accuracy: 0.6900\n",
            "Epoch 20/20\n",
            "281/282 [============================>.] - ETA: 0s - loss: 0.5137 - accuracy: 0.8027\n",
            "Epoch 00020: val_loss did not improve from 0.83609\n",
            "282/282 [==============================] - 17s 62ms/step - loss: 0.5139 - accuracy: 0.8026 - val_loss: 0.9160 - val_accuracy: 0.6830\n"
          ],
          "name": "stdout"
        }
      ]
    },
    {
      "cell_type": "markdown",
      "metadata": {
        "id": "dZWkTPWZkdVs"
      },
      "source": [
        "###Comparing data between models (cnn_transfer is best, cnn_scratch is second)\n"
      ]
    },
    {
      "cell_type": "code",
      "metadata": {
        "id": "A-V2HVMOGRZ-",
        "colab": {
          "base_uri": "https://localhost:8080/",
          "height": 279
        },
        "outputId": "e8a52f95-fa63-4ef7-daea-3308984751f8"
      },
      "source": [
        "compare_learning(mlp_history, lm_history, cnn_history, vgg_history)"
      ],
      "execution_count": 30,
      "outputs": [
        {
          "output_type": "display_data",
          "data": {
            "image/png": "[encoded data removed]",
            "text/plain": [
              "<Figure size 432x288 with 1 Axes>"
            ]
          },
          "metadata": {
            "tags": [],
            "needs_background": "light"
          }
        }
      ]
    },
    {
      "cell_type": "code",
      "metadata": {
        "id": "cIehuCvikbsO"
      },
      "source": [
        ""
      ],
      "execution_count": null,
      "outputs": []
    }
  ]
}